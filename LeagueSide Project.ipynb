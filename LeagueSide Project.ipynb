{
 "cells": [
  {
   "cell_type": "markdown",
   "metadata": {},
   "source": [
    "# LeagueSide Project: Business Operations"
   ]
  },
  {
   "cell_type": "markdown",
   "metadata": {},
   "source": [
    "### Import Libraries"
   ]
  },
  {
   "cell_type": "code",
   "execution_count": 1,
   "metadata": {},
   "outputs": [],
   "source": [
    "import pandas as pd\n",
    "import numpy as np\n",
    "import matplotlib.pyplot as plt"
   ]
  },
  {
   "cell_type": "markdown",
   "metadata": {},
   "source": [
    "### Reading in data from google sheets into a dataframe"
   ]
  },
  {
   "cell_type": "code",
   "execution_count": 2,
   "metadata": {},
   "outputs": [],
   "source": [
    "excel_url = \"https://docs.google.com/spreadsheets/d/1tV7xETwIZOXdOvwNAMs2Oc29fZkcGbM3tLWfnZdPV5s/edit#gid=1305717896\"\n",
    "\n",
    "url = excel_url.replace('/edit#gid=', '/export?format=csv&gid=')"
   ]
  },
  {
   "cell_type": "code",
   "execution_count": 3,
   "metadata": {
    "scrolled": false
   },
   "outputs": [
    {
     "data": {
      "text/html": [
       "<div>\n",
       "<style scoped>\n",
       "    .dataframe tbody tr th:only-of-type {\n",
       "        vertical-align: middle;\n",
       "    }\n",
       "\n",
       "    .dataframe tbody tr th {\n",
       "        vertical-align: top;\n",
       "    }\n",
       "\n",
       "    .dataframe thead th {\n",
       "        text-align: right;\n",
       "    }\n",
       "</style>\n",
       "<table border=\"1\" class=\"dataframe\">\n",
       "  <thead>\n",
       "    <tr style=\"text-align: right;\">\n",
       "      <th></th>\n",
       "      <th>deadline</th>\n",
       "      <th>Account Manager</th>\n",
       "      <th>Capability Type</th>\n",
       "      <th>Deadline Name</th>\n",
       "      <th>League ID</th>\n",
       "      <th>Campaign ID</th>\n",
       "      <th>Verification Status</th>\n",
       "    </tr>\n",
       "  </thead>\n",
       "  <tbody>\n",
       "    <tr>\n",
       "      <th>0</th>\n",
       "      <td>2021-09-13</td>\n",
       "      <td>Melissa</td>\n",
       "      <td>Website banners</td>\n",
       "      <td>Upload web banner to website</td>\n",
       "      <td>418</td>\n",
       "      <td>684</td>\n",
       "      <td>Verified</td>\n",
       "    </tr>\n",
       "    <tr>\n",
       "      <th>1</th>\n",
       "      <td>2021-09-13</td>\n",
       "      <td>Melissa</td>\n",
       "      <td>Website banners</td>\n",
       "      <td>Upload web banner to website</td>\n",
       "      <td>16205</td>\n",
       "      <td>684</td>\n",
       "      <td>Verified</td>\n",
       "    </tr>\n",
       "    <tr>\n",
       "      <th>2</th>\n",
       "      <td>2021-09-13</td>\n",
       "      <td>Asha</td>\n",
       "      <td>Website banners</td>\n",
       "      <td>Upload web banner to website</td>\n",
       "      <td>537</td>\n",
       "      <td>1181</td>\n",
       "      <td>Overdue</td>\n",
       "    </tr>\n",
       "    <tr>\n",
       "      <th>3</th>\n",
       "      <td>2021-09-14</td>\n",
       "      <td>Melissa</td>\n",
       "      <td>Website banners</td>\n",
       "      <td>Upload web banner to website</td>\n",
       "      <td>14296</td>\n",
       "      <td>684</td>\n",
       "      <td>Verified</td>\n",
       "    </tr>\n",
       "    <tr>\n",
       "      <th>4</th>\n",
       "      <td>2021-09-14</td>\n",
       "      <td>Melissa</td>\n",
       "      <td>Website banners</td>\n",
       "      <td>Upload web banner to website</td>\n",
       "      <td>10943</td>\n",
       "      <td>684</td>\n",
       "      <td>Verified</td>\n",
       "    </tr>\n",
       "  </tbody>\n",
       "</table>\n",
       "</div>"
      ],
      "text/plain": [
       "     deadline Account Manager  Capability Type                 Deadline Name  \\\n",
       "0  2021-09-13         Melissa  Website banners  Upload web banner to website   \n",
       "1  2021-09-13         Melissa  Website banners  Upload web banner to website   \n",
       "2  2021-09-13            Asha  Website banners  Upload web banner to website   \n",
       "3  2021-09-14         Melissa  Website banners  Upload web banner to website   \n",
       "4  2021-09-14         Melissa  Website banners  Upload web banner to website   \n",
       "\n",
       "   League ID  Campaign ID Verification Status  \n",
       "0        418          684            Verified  \n",
       "1      16205          684            Verified  \n",
       "2        537         1181             Overdue  \n",
       "3      14296          684            Verified  \n",
       "4      10943          684            Verified  "
      ]
     },
     "execution_count": 3,
     "metadata": {},
     "output_type": "execute_result"
    }
   ],
   "source": [
    "# read in data\n",
    "df = pd.read_csv(url)\n",
    "df.head(5)"
   ]
  },
  {
   "cell_type": "markdown",
   "metadata": {},
   "source": [
    "### Checking for duplicates or null/missing values"
   ]
  },
  {
   "cell_type": "code",
   "execution_count": 4,
   "metadata": {},
   "outputs": [
    {
     "data": {
      "text/plain": [
       "0"
      ]
     },
     "execution_count": 4,
     "metadata": {},
     "output_type": "execute_result"
    }
   ],
   "source": [
    "df.duplicated().sum()"
   ]
  },
  {
   "cell_type": "code",
   "execution_count": 5,
   "metadata": {},
   "outputs": [
    {
     "data": {
      "text/plain": [
       "deadline               0\n",
       "Account Manager        0\n",
       "Capability Type        0\n",
       "Deadline Name          0\n",
       "League ID              0\n",
       "Campaign ID            0\n",
       "Verification Status    0\n",
       "dtype: int64"
      ]
     },
     "execution_count": 5,
     "metadata": {},
     "output_type": "execute_result"
    }
   ],
   "source": [
    "df.isnull().sum()"
   ]
  },
  {
   "cell_type": "markdown",
   "metadata": {},
   "source": [
    "# 1a:  Current overall percentage of items that are ‘Verified’"
   ]
  },
  {
   "cell_type": "code",
   "execution_count": 6,
   "metadata": {},
   "outputs": [
    {
     "data": {
      "text/plain": [
       "Not Yet Due    173\n",
       "Verified       152\n",
       "Overdue         66\n",
       "Name: Verification Status, dtype: int64"
      ]
     },
     "execution_count": 6,
     "metadata": {},
     "output_type": "execute_result"
    }
   ],
   "source": [
    "df['Verification Status'].value_counts()"
   ]
  },
  {
   "cell_type": "code",
   "execution_count": 7,
   "metadata": {},
   "outputs": [
    {
     "data": {
      "text/plain": [
       "38.87468030690537"
      ]
     },
     "execution_count": 7,
     "metadata": {},
     "output_type": "execute_result"
    }
   ],
   "source": [
    "sum(df['Verification Status']=='Verified') /  df['Verification Status'].count() * 100"
   ]
  },
  {
   "cell_type": "markdown",
   "metadata": {},
   "source": [
    "**38.87 percent of items are 'Verified'**"
   ]
  },
  {
   "cell_type": "markdown",
   "metadata": {},
   "source": [
    "# 1b: Our verification percentage by Capability Type\t\n",
    "<a id='count-by-capability'></a>"
   ]
  },
  {
   "cell_type": "code",
   "execution_count": 8,
   "metadata": {},
   "outputs": [
    {
     "data": {
      "text/plain": [
       "Capability Type\n",
       "Game signage                            136\n",
       "Dedicated email or social media post     83\n",
       "Giveaways                                69\n",
       "Teams of Game Jerseys                    63\n",
       "Website banners                          40\n",
       "Name: Capability Type, dtype: int64"
      ]
     },
     "execution_count": 8,
     "metadata": {},
     "output_type": "execute_result"
    }
   ],
   "source": [
    "df.groupby('Capability Type')['Capability Type'].count().sort_values(ascending=False)\n",
    "\n"
   ]
  },
  {
   "cell_type": "markdown",
   "metadata": {},
   "source": [
    "**Game signage is our biggest category by number of items**\n"
   ]
  },
  {
   "cell_type": "code",
   "execution_count": 9,
   "metadata": {},
   "outputs": [
    {
     "data": {
      "text/plain": [
       "Capability Type                       Verification Status\n",
       "Dedicated email or social media post  Not Yet Due            30\n",
       "                                      Overdue                16\n",
       "                                      Verified               37\n",
       "Game signage                          Not Yet Due            75\n",
       "                                      Overdue                14\n",
       "                                      Verified               47\n",
       "Giveaways                             Not Yet Due             8\n",
       "                                      Overdue                26\n",
       "                                      Verified               35\n",
       "Teams of Game Jerseys                 Not Yet Due            45\n",
       "                                      Overdue                 6\n",
       "                                      Verified               12\n",
       "Website banners                       Not Yet Due            15\n",
       "                                      Overdue                 4\n",
       "                                      Verified               21\n",
       "Name: Verification Status, dtype: int64"
      ]
     },
     "execution_count": 9,
     "metadata": {},
     "output_type": "execute_result"
    }
   ],
   "source": [
    "#creates a series grouped by capability type and verifcation status\n",
    "capability_df = df.groupby(['Capability Type', 'Verification Status'])['Verification Status'].count()\n",
    "capability_df"
   ]
  },
  {
   "cell_type": "code",
   "execution_count": 10,
   "metadata": {},
   "outputs": [],
   "source": [
    "# store the unique values for each column\n",
    "col1 = df['Capability Type'].unique()\n",
    "col2 = df['Verification Status'].unique()"
   ]
  },
  {
   "cell_type": "code",
   "execution_count": 11,
   "metadata": {},
   "outputs": [
    {
     "name": "stdout",
     "output_type": "stream",
     "text": [
      "The Verification percentage for Website banners is 52.5%\n",
      "The Verification percentage for Game signage is 34.56%\n",
      "The Verification percentage for Dedicated email or social media post is 44.58%\n",
      "The Verification percentage for Giveaways is 50.72%\n",
      "The Verification percentage for Teams of Game Jerseys is 19.05%\n"
     ]
    }
   ],
   "source": [
    "# function to loop through and calculate percentages for each group so that we don't have to manually calculate\n",
    "\n",
    "group_plot = {}\n",
    "\n",
    "for val1 in col1:\n",
    "    group_total = 0\n",
    "    group_verified = 0\n",
    "    \n",
    "    for val2 in col2:     \n",
    "        if val2 == 'Verified':\n",
    "            group_total += capability_df.loc[val1, val2]\n",
    "            group_verified += capability_df.loc[val1, val2]\n",
    "        else:\n",
    "            group_total += capability_df.loc[val1, val2]\n",
    "    \n",
    "    calculation = round(group_verified / group_total * 100, 2)\n",
    "    group_plot[val1] = calculation # store in dictionary - to be used for a plot\n",
    "    print(f\"The Verification percentage for {val1} is {calculation}%\")\n",
    "    "
   ]
  },
  {
   "cell_type": "markdown",
   "metadata": {},
   "source": [
    "# 1c: Additional Metric\n",
    "\n",
    "<a id='account'></a>"
   ]
  },
  {
   "cell_type": "code",
   "execution_count": 12,
   "metadata": {},
   "outputs": [
    {
     "data": {
      "text/plain": [
       "{'Melissa': 167,\n",
       " 'Charlie': 88,\n",
       " 'Antonio': 65,\n",
       " 'Asha': 38,\n",
       " 'Darien': 28,\n",
       " 'Julia': 5}"
      ]
     },
     "execution_count": 12,
     "metadata": {},
     "output_type": "execute_result"
    }
   ],
   "source": [
    "manager_items = dict(df['Account Manager'].value_counts())\n",
    "manager_items"
   ]
  },
  {
   "cell_type": "markdown",
   "metadata": {},
   "source": [
    "Interesting, **Melissa** is taking on many more item deadlines than others. Almost, double the second highest person. \n",
    "\n",
    "Additionally, Julia only has 5 items she is working on. Let's explore a little more\n",
    "\n"
   ]
  },
  {
   "cell_type": "code",
   "execution_count": 13,
   "metadata": {},
   "outputs": [],
   "source": [
    "#creates a series grouped by Account Manager\n",
    "account = df.groupby(['Account Manager', 'Verification Status'])['Verification Status'].count()"
   ]
  },
  {
   "cell_type": "code",
   "execution_count": 14,
   "metadata": {
    "scrolled": true
   },
   "outputs": [
    {
     "name": "stdout",
     "output_type": "stream",
     "text": [
      "Of those items assigned (167), Melissa has verified 41.92% of them\n",
      "Of those items assigned (38), Asha has verified 39.47% of them\n",
      "Of those items assigned (65), Antonio has verified 36.92% of them\n",
      "Of those items assigned (88), Charlie has verified 40.91% of them\n",
      "Of those items assigned (28), Darien has verified 21.43% of them\n",
      "Of those items assigned (5), Julia has verified 20.0% of them\n"
     ]
    }
   ],
   "source": [
    "col1 =df['Account Manager'].unique()\n",
    "col2 = df['Verification Status'].unique()\n",
    "\n",
    "manager_numbers = {}\n",
    "\n",
    "for val1 in col1:\n",
    "    Manager_Items = 0\n",
    "    group_verified = 0\n",
    "    \n",
    "    for val2 in col2:     \n",
    "        if val2 == 'Verified':\n",
    "            Manager_Items += account.loc[val1, val2]\n",
    "            group_verified += account.loc[val1, val2]\n",
    "        else:\n",
    "            Manager_Items += account.loc[val1, val2]\n",
    "    \n",
    "    calculation = round(group_verified / Manager_Items * 100, 2)\n",
    "    \n",
    "    manager_numbers[val1] = calculation # store in dictionary - to be used for a plot\n",
    "    \n",
    "    print(f\"Of those items assigned ({Manager_Items}), {val1} has verified {calculation}% of them\")\n",
    "    "
   ]
  },
  {
   "cell_type": "markdown",
   "metadata": {},
   "source": [
    "# 1d/ 2: Briefing the Team, Analyzing, and Strategizing"
   ]
  },
  {
   "cell_type": "code",
   "execution_count": 15,
   "metadata": {},
   "outputs": [
    {
     "data": {
      "image/png": "[encoded data removed]",
      "text/plain": [
       "<Figure size 720x576 with 1 Axes>"
      ]
     },
     "metadata": {
      "needs_background": "light"
     },
     "output_type": "display_data"
    }
   ],
   "source": [
    "plt.figure(figsize=[10, 8])\n",
    "plt.bar(group_plot.keys(), group_plot.values())\n",
    "plt.xticks(rotation=45)\n",
    "plt.yticks(np.arange(0, 110, 20))\n",
    "plt.title(\"Percentage of Verification by Capability Type\")\n",
    "plt.tight_layout()"
   ]
  },
  {
   "cell_type": "code",
   "execution_count": 16,
   "metadata": {},
   "outputs": [
    {
     "data": {
      "text/plain": [
       "{'Melissa': 41.92,\n",
       " 'Asha': 39.47,\n",
       " 'Antonio': 36.92,\n",
       " 'Charlie': 40.91,\n",
       " 'Darien': 21.43,\n",
       " 'Julia': 20.0}"
      ]
     },
     "execution_count": 16,
     "metadata": {},
     "output_type": "execute_result"
    }
   ],
   "source": [
    "manager_numbers"
   ]
  },
  {
   "cell_type": "code",
   "execution_count": 17,
   "metadata": {},
   "outputs": [
    {
     "data": {
      "image/png": "[encoded data removed]",
      "text/plain": [
       "<Figure size 576x360 with 1 Axes>"
      ]
     },
     "metadata": {
      "needs_background": "light"
     },
     "output_type": "display_data"
    }
   ],
   "source": [
    "plt.figure(figsize=[8,5])\n",
    "plt.bar(manager_items.keys(), manager_items.values(), 0.6, label='Items')\n",
    "plt.title(\"Total # of Items Per Account Manager\")\n",
    "plt.show()"
   ]
  },
  {
   "cell_type": "code",
   "execution_count": 18,
   "metadata": {},
   "outputs": [
    {
     "data": {
      "image/png": "[encoded data removed]",
      "text/plain": [
       "<Figure size 576x360 with 1 Axes>"
      ]
     },
     "metadata": {
      "needs_background": "light"
     },
     "output_type": "display_data"
    }
   ],
   "source": [
    "plt.figure(figsize=[8,5])\n",
    "plt.bar(manager_numbers.keys(), manager_numbers.values(), 0.6, label='Percentage Verified')\n",
    "plt.title(\"Percentage of Items that are Verified Per Account Manager\")\n",
    "plt.show()"
   ]
  },
  {
   "cell_type": "markdown",
   "metadata": {},
   "source": [
    "Currently, overall we have collected only 38.87% of the total 391 verifications. As revealed by the graph above, \"Teams of Game Jerseys\" items are significantly lagging behind in verifications percentage wise. With that being said it might be wise to focus our team efforts on targeting \"Game signage.\" Not only is gamesignage lagging behind percentage wise but it also makes up our biggest category by overall number of items at [136 items](#count-by-capability). I suggest we look into what is causing the delays and allocate our time and resources towards this category. \n",
    "\n",
    "There also appears to be a big discrepancy in the assignment of items to our various account managers. Some of our account managers are taking on an insane load of work. Shoutout to [Melissa](#account) for being a go-getter. She is not only taking on a large number of items but also has the highest percentage of verifications out of all our account managers. We definitely should give her additional help and spread her work out to other account managers who do not have as much assigned to them. A more even distribution of the work should help us reach our goal of 90% of items “Verified.\" \n",
    "\n",
    "In the future, we should take a look into ways to make the verification process more efficient for item deadlines categorized as \"game signage\". Additionally, we should ask: what led to such a lopsided allocation of work for our account managers? Are there certain distribution processes that aren't working? Do we need to provide more training for certain account managers to help them succeed? We should take the time to seriously improve our business processes as one account manager should never have that much assigned to him/her. "
   ]
  },
  {
   "cell_type": "code",
   "execution_count": null,
   "metadata": {},
   "outputs": [],
   "source": []
  }
 ],
 "metadata": {
  "kernelspec": {
   "display_name": "Python 3",
   "language": "python",
   "name": "python3"
  },
  "language_info": {
   "codemirror_mode": {
    "name": "ipython",
    "version": 3
   },
   "file_extension": ".py",
   "mimetype": "text/x-python",
   "name": "python",
   "nbconvert_exporter": "python",
   "pygments_lexer": "ipython3",
   "version": "3.8.3"
  }
 },
 "nbformat": 4,
 "nbformat_minor": 4
}
